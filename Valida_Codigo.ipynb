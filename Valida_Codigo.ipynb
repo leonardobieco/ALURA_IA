{
  "nbformat": 4,
  "nbformat_minor": 0,
  "metadata": {
    "colab": {
      "provenance": [],
      "authorship_tag": "ABX9TyMVoh7q+RB2XbLuxWGV+fHK",
      "include_colab_link": true
    },
    "kernelspec": {
      "name": "python3",
      "display_name": "Python 3"
    },
    "language_info": {
      "name": "python"
    }
  },
  "cells": [
    {
      "cell_type": "markdown",
      "metadata": {
        "id": "view-in-github",
        "colab_type": "text"
      },
      "source": [
        "<a href=\"https://colab.research.google.com/github/leonardobieco/ALURA_IA/blob/main/Valida_Codigo.ipynb\" target=\"_parent\"><img src=\"https://colab.research.google.com/assets/colab-badge.svg\" alt=\"Open In Colab\"/></a>"
      ]
    },
    {
      "cell_type": "code",
      "execution_count": 1,
      "metadata": {
        "id": "1pV53GK8E9B_"
      },
      "outputs": [],
      "source": [
        "#Instalando o SDK do Google\n",
        "!pip install -q -U google-generativeai\n",
        "\n"
      ]
    },
    {
      "cell_type": "code",
      "source": [
        "#Markdown\n",
        "\n",
        "import textwrap\n",
        "from IPython.display import display\n",
        "from IPython.display import Markdown"
      ],
      "metadata": {
        "id": "0OpuCPRIHwQa"
      },
      "execution_count": 2,
      "outputs": []
    },
    {
      "cell_type": "code",
      "source": [
        "#Configurações iniciais\n",
        "import google.generativeai as genai\n",
        "\n",
        "from google.colab import userdata\n",
        "CHAVE=userdata.get('KEY')\n",
        "genai.configure(api_key=CHAVE)"
      ],
      "metadata": {
        "id": "qjISbWoLJP4h"
      },
      "execution_count": 3,
      "outputs": []
    },
    {
      "cell_type": "code",
      "source": [
        "#Listando os modelos disponíveis\n",
        "for m in genai.list_models():\n",
        "  if 'generateContent' in m.supported_generation_methods:\n",
        "    print(m.name)"
      ],
      "metadata": {
        "colab": {
          "base_uri": "https://localhost:8080/",
          "height": 139
        },
        "id": "GuHHoDTdJH_5",
        "outputId": "a7744b8c-9c81-4500-9a1f-5fb48b5ac7b5"
      },
      "execution_count": 4,
      "outputs": [
        {
          "output_type": "stream",
          "name": "stdout",
          "text": [
            "models/gemini-1.0-pro\n",
            "models/gemini-1.0-pro-001\n",
            "models/gemini-1.0-pro-latest\n",
            "models/gemini-1.0-pro-vision-latest\n",
            "models/gemini-1.5-pro-latest\n",
            "models/gemini-pro\n",
            "models/gemini-pro-vision\n"
          ]
        }
      ]
    },
    {
      "cell_type": "code",
      "source": [
        "#Excolhendo modelo\n",
        "model = genai.GenerativeModel(model_name='gemini-1.0-pro-latest')"
      ],
      "metadata": {
        "id": "odEFEZ3CHIGk"
      },
      "execution_count": 8,
      "outputs": []
    },
    {
      "cell_type": "code",
      "source": [
        "chat = model.start_chat(history=[])\n",
        "\n",
        "prompt = 'Valide o erro de codigo conforme descrito pela linguagem, codigo e retorno de erro informado.'\n",
        "prompt = input('Escreva qual linguagem esta utilizando: ')\n",
        "prompt = input('Escreva o codigo: ')\n",
        "prompt = input('Escreva o erro retornado: ')\n",
        "\n",
        "response = chat.send_message(prompt)\n",
        "print(\"Resposta:\", response.text, '\\n\\n')\n"
      ],
      "metadata": {
        "colab": {
          "base_uri": "https://localhost:8080/",
          "height": 416
        },
        "id": "IEC0-nCBKS9E",
        "outputId": "c395f49d-fcb0-4c13-90c2-343bef618939"
      },
      "execution_count": 14,
      "outputs": [
        {
          "output_type": "stream",
          "name": "stdout",
          "text": [
            "Escreva qual linguagem esta utilizando: sql oracle\n",
            "Escreva o codigo: drop table tdd\n",
            "Escreva o erro retornado: ORA-00600\n",
            "Resposta: **ORA-00600: internal error code, arguments: [err_msg]**\n",
            "\n",
            "**Cause:** An internal error has occurred in the Oracle database. This error is usually caused by a software bug in the database or by a problem with the hardware.\n",
            "\n",
            "**Action:**\n",
            "\n",
            "1. **Check the Oracle error log:** Look for any additional error messages that may provide more details about the cause of the error.\n",
            "2. **Contact Oracle support:** If you are unable to resolve the error on your own, contact Oracle support for assistance.\n",
            "3. **Review and update software:** Make sure that you are running the latest version of Oracle software and have applied any necessary patches or updates.\n",
            "4. **Check hardware:** If the error is consistent and occurs frequently, it may be an indication of a hardware problem. Contact your hardware vendor for support.\n",
            "5. **Restart the database:** In some cases, simply restarting the database can resolve the error.\n",
            "6. **Reinstall the database:** If all else fails, you may need to reinstall the Oracle database. Make sure to back up your data before proceeding with this step.\n",
            "\n",
            "**Additional information:**\n",
            "\n",
            "* The error message usually contains an error code, which can be used to identify the specific error.\n",
            "* The arguments in the error message may provide additional information about the cause of the error.\n",
            "* ORA-00600 is a generic error code that can be caused by a variety of issues. It is important to review the error log and contact Oracle support for assistance if necessary. \n",
            "\n",
            "\n"
          ]
        }
      ]
    }
  ]
}